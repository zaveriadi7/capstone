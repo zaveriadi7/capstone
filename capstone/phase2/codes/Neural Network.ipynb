{
 "cells": [
  {
   "cell_type": "code",
   "execution_count": 3,
   "id": "d326ded2-aa1c-422b-92b8-9640d7f3c91d",
   "metadata": {},
   "outputs": [
    {
     "data": {
      "text/html": [
       "<div>\n",
       "<style scoped>\n",
       "    .dataframe tbody tr th:only-of-type {\n",
       "        vertical-align: middle;\n",
       "    }\n",
       "\n",
       "    .dataframe tbody tr th {\n",
       "        vertical-align: top;\n",
       "    }\n",
       "\n",
       "    .dataframe thead th {\n",
       "        text-align: right;\n",
       "    }\n",
       "</style>\n",
       "<table border=\"1\" class=\"dataframe\">\n",
       "  <thead>\n",
       "    <tr style=\"text-align: right;\">\n",
       "      <th></th>\n",
       "      <th>Working Since (Date)</th>\n",
       "      <th>Gender</th>\n",
       "      <th>Work Type</th>\n",
       "      <th>Pay Grade</th>\n",
       "      <th>Current Resources</th>\n",
       "      <th>Mental Fatigue Score</th>\n",
       "      <th>Burn Rate</th>\n",
       "      <th>Employee Position</th>\n",
       "    </tr>\n",
       "  </thead>\n",
       "  <tbody>\n",
       "    <tr>\n",
       "      <th>0</th>\n",
       "      <td>2019-06-02</td>\n",
       "      <td>Female</td>\n",
       "      <td>Organised</td>\n",
       "      <td>2</td>\n",
       "      <td>5</td>\n",
       "      <td>0.0</td>\n",
       "      <td>0.50</td>\n",
       "      <td>Cook</td>\n",
       "    </tr>\n",
       "    <tr>\n",
       "      <th>1</th>\n",
       "      <td>2019-05-21</td>\n",
       "      <td>Male</td>\n",
       "      <td>Organised</td>\n",
       "      <td>2</td>\n",
       "      <td>10</td>\n",
       "      <td>7.3</td>\n",
       "      <td>0.05</td>\n",
       "      <td>Maintenance Staff</td>\n",
       "    </tr>\n",
       "    <tr>\n",
       "      <th>2</th>\n",
       "      <td>2024-09-12</td>\n",
       "      <td>Male</td>\n",
       "      <td>Unorganised</td>\n",
       "      <td>4</td>\n",
       "      <td>3</td>\n",
       "      <td>3.0</td>\n",
       "      <td>0.19</td>\n",
       "      <td>Security Guard</td>\n",
       "    </tr>\n",
       "    <tr>\n",
       "      <th>3</th>\n",
       "      <td>2018-04-09</td>\n",
       "      <td>Female</td>\n",
       "      <td>Unorganised</td>\n",
       "      <td>1</td>\n",
       "      <td>3</td>\n",
       "      <td>0.0</td>\n",
       "      <td>0.41</td>\n",
       "      <td>Cleaner</td>\n",
       "    </tr>\n",
       "    <tr>\n",
       "      <th>4</th>\n",
       "      <td>2020-06-14</td>\n",
       "      <td>Male</td>\n",
       "      <td>Organised</td>\n",
       "      <td>4</td>\n",
       "      <td>7</td>\n",
       "      <td>7.5</td>\n",
       "      <td>0.52</td>\n",
       "      <td>Janitor</td>\n",
       "    </tr>\n",
       "  </tbody>\n",
       "</table>\n",
       "</div>"
      ],
      "text/plain": [
       "  Working Since (Date)  Gender    Work Type  Pay Grade  Current Resources  \\\n",
       "0           2019-06-02  Female    Organised          2                  5   \n",
       "1           2019-05-21    Male    Organised          2                 10   \n",
       "2           2024-09-12    Male  Unorganised          4                  3   \n",
       "3           2018-04-09  Female  Unorganised          1                  3   \n",
       "4           2020-06-14    Male    Organised          4                  7   \n",
       "\n",
       "   Mental Fatigue Score  Burn Rate  Employee Position  \n",
       "0                   0.0       0.50               Cook  \n",
       "1                   7.3       0.05  Maintenance Staff  \n",
       "2                   3.0       0.19     Security Guard  \n",
       "3                   0.0       0.41            Cleaner  \n",
       "4                   7.5       0.52            Janitor  "
      ]
     },
     "execution_count": 3,
     "metadata": {},
     "output_type": "execute_result"
    }
   ],
   "source": [
    "import pandas as pd\n",
    "import numpy as np\n",
    "import tensorflow as tf\n",
    "from sklearn.model_selection import train_test_split\n",
    "from sklearn.preprocessing import OneHotEncoder, LabelEncoder\n",
    "from tensorflow.keras.models import Sequential\n",
    "from tensorflow.keras.layers import Dense, Dropout\n",
    "\n",
    "# Load the dataset\n",
    "data = pd.read_csv('generated_data.csv')\n",
    "data.head()"
   ]
  },
  {
   "cell_type": "code",
   "execution_count": 4,
   "id": "13763bd1-c9fb-45b2-8bc3-18fee2a18e6c",
   "metadata": {},
   "outputs": [],
   "source": [
    "data.drop(columns=['Working Since (Date)'], inplace=True)\n"
   ]
  },
  {
   "cell_type": "code",
   "execution_count": 5,
   "id": "c82eecd2-ac29-433c-a837-d709a70a3cd9",
   "metadata": {},
   "outputs": [],
   "source": [
    "data_encoded = pd.get_dummies(data, columns=['Gender', 'Work Type', 'Employee Position'])"
   ]
  },
  {
   "cell_type": "code",
   "execution_count": 6,
   "id": "3f32aa1f-4336-46f8-ae8f-583cb7a3d44b",
   "metadata": {},
   "outputs": [],
   "source": [
    "X = data_encoded.drop(columns=['Burn Rate']).values  # Features\n",
    "y = data_encoded['Burn Rate'].values  # Target"
   ]
  },
  {
   "cell_type": "code",
   "execution_count": 7,
   "id": "8fad2d69-25bc-4274-89a0-16d98a870c2c",
   "metadata": {},
   "outputs": [],
   "source": [
    "X_train, X_test, y_train, y_test = train_test_split(X, y, test_size=0.2, random_state=42)"
   ]
  },
  {
   "cell_type": "code",
   "execution_count": 8,
   "id": "23d9a31a-1fa3-494e-b232-28fbb0ebb711",
   "metadata": {},
   "outputs": [],
   "source": [
    "scaler = StandardScaler()\n",
    "X_train_scaled = scaler.fit_transform(X_train)\n",
    "X_test_scaled = scaler.transform(X_test)"
   ]
  },
  {
   "cell_type": "code",
   "execution_count": 15,
   "id": "1ac1adad-85db-45a1-94a4-e4fa1b0a0194",
   "metadata": {},
   "outputs": [],
   "source": [
    "model = Sequential()\n",
    "model.add(Dense(100, input_dim=X_train_scaled.shape[1], activation='relu'))\n",
    "model.add(Dense(50, activation='relu'))\n",
    "model.add(Dense(1, activation='linear'))"
   ]
  },
  {
   "cell_type": "code",
   "execution_count": 17,
   "id": "6e02fd9a-2457-4f50-a9cd-44aa91d08ec0",
   "metadata": {},
   "outputs": [],
   "source": [
    "model.compile(loss='mean_squared_error', optimizer='adam')\n"
   ]
  },
  {
   "cell_type": "code",
   "execution_count": 18,
   "id": "936d8564-5a66-468a-83f3-246e7a263f5d",
   "metadata": {},
   "outputs": [
    {
     "name": "stdout",
     "output_type": "stream",
     "text": [
      "Epoch 1/50\n",
      "500/500 [==============================] - 5s 7ms/step - loss: 0.0595 - val_loss: 0.0583\n",
      "Epoch 2/50\n",
      "500/500 [==============================] - 4s 7ms/step - loss: 0.0542 - val_loss: 0.0555\n",
      "Epoch 3/50\n",
      "500/500 [==============================] - 4s 7ms/step - loss: 0.0530 - val_loss: 0.0562\n",
      "Epoch 4/50\n",
      "500/500 [==============================] - 4s 7ms/step - loss: 0.0526 - val_loss: 0.0540\n",
      "Epoch 5/50\n",
      "500/500 [==============================] - 4s 7ms/step - loss: 0.0519 - val_loss: 0.0535\n",
      "Epoch 6/50\n",
      "500/500 [==============================] - 4s 7ms/step - loss: 0.0518 - val_loss: 0.0539\n",
      "Epoch 7/50\n",
      "500/500 [==============================] - 4s 7ms/step - loss: 0.0512 - val_loss: 0.0533\n",
      "Epoch 8/50\n",
      "500/500 [==============================] - 4s 7ms/step - loss: 0.0514 - val_loss: 0.0535\n",
      "Epoch 9/50\n",
      "500/500 [==============================] - 3s 7ms/step - loss: 0.0511 - val_loss: 0.0534\n",
      "Epoch 10/50\n",
      "500/500 [==============================] - 4s 7ms/step - loss: 0.0509 - val_loss: 0.0534\n",
      "Epoch 11/50\n",
      "500/500 [==============================] - 3s 7ms/step - loss: 0.0509 - val_loss: 0.0530\n",
      "Epoch 12/50\n",
      "500/500 [==============================] - 4s 7ms/step - loss: 0.0509 - val_loss: 0.0538\n",
      "Epoch 13/50\n",
      "500/500 [==============================] - 4s 7ms/step - loss: 0.0507 - val_loss: 0.0534\n",
      "Epoch 14/50\n",
      "500/500 [==============================] - 4s 7ms/step - loss: 0.0507 - val_loss: 0.0542\n",
      "Epoch 15/50\n",
      "500/500 [==============================] - 4s 7ms/step - loss: 0.0505 - val_loss: 0.0533\n",
      "Epoch 16/50\n",
      "500/500 [==============================] - 4s 7ms/step - loss: 0.0505 - val_loss: 0.0530\n",
      "Epoch 17/50\n",
      "500/500 [==============================] - 4s 7ms/step - loss: 0.0505 - val_loss: 0.0529\n",
      "Epoch 18/50\n",
      "500/500 [==============================] - 4s 7ms/step - loss: 0.0504 - val_loss: 0.0527\n",
      "Epoch 19/50\n",
      "500/500 [==============================] - 4s 8ms/step - loss: 0.0504 - val_loss: 0.0531\n",
      "Epoch 20/50\n",
      "500/500 [==============================] - 4s 8ms/step - loss: 0.0503 - val_loss: 0.0535\n",
      "Epoch 21/50\n",
      "500/500 [==============================] - 3s 7ms/step - loss: 0.0502 - val_loss: 0.0532\n",
      "Epoch 22/50\n",
      "500/500 [==============================] - 3s 7ms/step - loss: 0.0502 - val_loss: 0.0528\n",
      "Epoch 23/50\n",
      "500/500 [==============================] - 4s 7ms/step - loss: 0.0502 - val_loss: 0.0527\n",
      "Epoch 24/50\n",
      "500/500 [==============================] - 4s 7ms/step - loss: 0.0501 - val_loss: 0.0533\n",
      "Epoch 25/50\n",
      "500/500 [==============================] - 3s 7ms/step - loss: 0.0501 - val_loss: 0.0531\n",
      "Epoch 26/50\n",
      "500/500 [==============================] - 3s 7ms/step - loss: 0.0501 - val_loss: 0.0538\n",
      "Epoch 27/50\n",
      "500/500 [==============================] - 3s 7ms/step - loss: 0.0500 - val_loss: 0.0528\n",
      "Epoch 28/50\n",
      "500/500 [==============================] - 3s 7ms/step - loss: 0.0498 - val_loss: 0.0533\n",
      "Epoch 29/50\n",
      "500/500 [==============================] - 3s 7ms/step - loss: 0.0499 - val_loss: 0.0531\n",
      "Epoch 30/50\n",
      "500/500 [==============================] - 3s 7ms/step - loss: 0.0499 - val_loss: 0.0533\n",
      "Epoch 31/50\n",
      "500/500 [==============================] - 3s 7ms/step - loss: 0.0498 - val_loss: 0.0541\n",
      "Epoch 32/50\n",
      "500/500 [==============================] - 3s 7ms/step - loss: 0.0497 - val_loss: 0.0531\n",
      "Epoch 33/50\n",
      "500/500 [==============================] - 3s 7ms/step - loss: 0.0497 - val_loss: 0.0529\n",
      "Epoch 34/50\n",
      "500/500 [==============================] - 3s 7ms/step - loss: 0.0497 - val_loss: 0.0536\n",
      "Epoch 35/50\n",
      "500/500 [==============================] - 3s 7ms/step - loss: 0.0497 - val_loss: 0.0528\n",
      "Epoch 36/50\n",
      "500/500 [==============================] - 3s 7ms/step - loss: 0.0496 - val_loss: 0.0532\n",
      "Epoch 37/50\n",
      "500/500 [==============================] - 3s 7ms/step - loss: 0.0495 - val_loss: 0.0533\n",
      "Epoch 38/50\n",
      "500/500 [==============================] - 3s 7ms/step - loss: 0.0495 - val_loss: 0.0539\n",
      "Epoch 39/50\n",
      "500/500 [==============================] - 3s 7ms/step - loss: 0.0494 - val_loss: 0.0531\n",
      "Epoch 40/50\n",
      "500/500 [==============================] - 4s 7ms/step - loss: 0.0494 - val_loss: 0.0535\n",
      "Epoch 41/50\n",
      "500/500 [==============================] - 4s 7ms/step - loss: 0.0493 - val_loss: 0.0539\n",
      "Epoch 42/50\n",
      "500/500 [==============================] - 3s 7ms/step - loss: 0.0493 - val_loss: 0.0535\n",
      "Epoch 43/50\n",
      "500/500 [==============================] - 4s 7ms/step - loss: 0.0491 - val_loss: 0.0532\n",
      "Epoch 44/50\n",
      "500/500 [==============================] - 4s 7ms/step - loss: 0.0491 - val_loss: 0.0535\n",
      "Epoch 45/50\n",
      "500/500 [==============================] - 4s 7ms/step - loss: 0.0491 - val_loss: 0.0539\n",
      "Epoch 46/50\n",
      "500/500 [==============================] - 4s 7ms/step - loss: 0.0491 - val_loss: 0.0544\n",
      "Epoch 47/50\n",
      "500/500 [==============================] - 4s 7ms/step - loss: 0.0489 - val_loss: 0.0537\n",
      "Epoch 48/50\n",
      "500/500 [==============================] - 4s 7ms/step - loss: 0.0490 - val_loss: 0.0533\n",
      "Epoch 49/50\n",
      "500/500 [==============================] - 4s 8ms/step - loss: 0.0488 - val_loss: 0.0538\n",
      "Epoch 50/50\n",
      "500/500 [==============================] - 4s 7ms/step - loss: 0.0487 - val_loss: 0.0539\n"
     ]
    }
   ],
   "source": [
    "history = model.fit(X_train_scaled, y_train, validation_data=(X_test_scaled, y_test), epochs=50, batch_size=32)"
   ]
  },
  {
   "cell_type": "code",
   "execution_count": 19,
   "id": "e3ab7ff8-965b-460a-a0aa-573a8c5e5132",
   "metadata": {},
   "outputs": [
    {
     "name": "stdout",
     "output_type": "stream",
     "text": [
      "Mean Squared Error: 0.05389286802981399\n"
     ]
    }
   ],
   "source": [
    "y_pred = model.predict(X_test_scaled)\n",
    "\n",
    "mse = mean_squared_error(y_test, y_pred)\n",
    "print(\"Mean Squared Error:\", mse)"
   ]
  },
  {
   "cell_type": "code",
   "execution_count": 20,
   "id": "2a43bf71-4858-4e7f-9d04-f0e4afd15ffa",
   "metadata": {},
   "outputs": [
    {
     "data": {
      "image/png": "[encoded data removed]",
      "text/plain": [
       "<Figure size 640x480 with 1 Axes>"
      ]
     },
     "metadata": {},
     "output_type": "display_data"
    }
   ],
   "source": [
    "import matplotlib.pyplot as plt\n",
    "\n",
    "# Plot training & validation loss values\n",
    "plt.plot(history.history['loss'])\n",
    "plt.plot(history.history['val_loss'])\n",
    "plt.title('Model loss')\n",
    "plt.ylabel('Loss')\n",
    "plt.xlabel('Epoch')\n",
    "plt.legend(['Train', 'Test'], loc='upper left')\n",
    "plt.show()"
   ]
  },
  {
   "cell_type": "code",
   "execution_count": null,
   "id": "98e1b79b-a6d5-4827-9822-6efddd1ffb8e",
   "metadata": {},
   "outputs": [],
   "source": []
  }
 ],
 "metadata": {
  "kernelspec": {
   "display_name": "gpu_env",
   "language": "python",
   "name": "gpu_env"
  },
  "language_info": {
   "codemirror_mode": {
    "name": "ipython",
    "version": 3
   },
   "file_extension": ".py",
   "mimetype": "text/x-python",
   "name": "python",
   "nbconvert_exporter": "python",
   "pygments_lexer": "ipython3",
   "version": "3.9.0"
  }
 },
 "nbformat": 4,
 "nbformat_minor": 5
}
